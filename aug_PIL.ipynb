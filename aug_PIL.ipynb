{
 "cells": [
  {
   "cell_type": "code",
   "execution_count": 2,
   "metadata": {},
   "outputs": [],
   "source": [
    "import math\n",
    "import PIL.Image as Image\n",
    "import PIL.ImageDraw as ImageDraw"
   ]
  },
  {
   "cell_type": "code",
   "execution_count": 3,
   "metadata": {},
   "outputs": [],
   "source": [
    "img_path='C:\\\\Users\\\\huangzhongjie\\\\Desktop\\\\4.0.png'\n",
    "img = Image.open(img_path)"
   ]
  },
  {
   "cell_type": "markdown",
   "metadata": {},
   "source": [
    "来自[这里](https://stackoverflow.com/questions/17056209/python-pil-affine-transformation)"
   ]
  },
  {
   "cell_type": "code",
   "execution_count": 4,
   "metadata": {},
   "outputs": [],
   "source": [
    "def scale_and_rotate_image(im, sx, sy, deg_ccw):\n",
    "    w, h = im.size\n",
    "    angle = math.radians(-deg_ccw)\n",
    "\n",
    "    cos_theta = math.cos(angle)\n",
    "    sin_theta = math.sin(angle)\n",
    "\n",
    "    scaled_w, scaled_h = w * sx, h * sy\n",
    "\n",
    "    new_w = int(math.ceil(math.fabs(cos_theta * scaled_w) + math.fabs(sin_theta * scaled_h)))\n",
    "    new_h = int(math.ceil(math.fabs(sin_theta * scaled_w) + math.fabs(cos_theta * scaled_h)))\n",
    "\n",
    "    cx = w / 2.\n",
    "    cy = h / 2.\n",
    "    tx = new_w / 2.\n",
    "    ty = new_h / 2.\n",
    "\n",
    "    a = cos_theta / sx\n",
    "    b = sin_theta / sx\n",
    "    c = cx - tx * a - ty * b\n",
    "    d = -sin_theta / sy\n",
    "    e = cos_theta / sy\n",
    "    f = cy - tx * d - ty * e\n",
    "\n",
    "    return im.transform(\n",
    "        (new_w, new_h),\n",
    "        Image.AFFINE,\n",
    "        (a, b, c, d, e, f),\n",
    "        resample=Image.BILINEAR\n",
    "    )"
   ]
  },
  {
   "cell_type": "code",
   "execution_count": 5,
   "metadata": {},
   "outputs": [],
   "source": [
    "img_affine = scale_and_rotate_image(img, 0.8, 1.2, 10)\n",
    "img_affine.save('rst.png')"
   ]
  },
  {
   "cell_type": "code",
   "execution_count": null,
   "metadata": {},
   "outputs": [],
   "source": [
    "img_rsz = img.resize((100, 150))\n",
    "img_jpg = img.convert('RGB')\n",
    "img_jpg.save('rst.jpg')"
   ]
  }
 ],
 "metadata": {
  "kernelspec": {
   "display_name": "Python 3",
   "language": "python",
   "name": "python3"
  },
  "language_info": {
   "codemirror_mode": {
    "name": "ipython",
    "version": 3
   },
   "file_extension": ".py",
   "mimetype": "text/x-python",
   "name": "python",
   "nbconvert_exporter": "python",
   "pygments_lexer": "ipython3",
   "version": "3.7.3"
  }
 },
 "nbformat": 4,
 "nbformat_minor": 2
}
