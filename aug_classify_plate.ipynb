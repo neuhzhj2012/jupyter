{
 "cells": [
  {
   "cell_type": "markdown",
   "metadata": {},
   "source": [
    "增强的详细参数参考[这里](https://github.com/aleju/imgaug#documentation)"
   ]
  },
  {
   "cell_type": "code",
   "execution_count": null,
   "metadata": {},
   "outputs": [],
   "source": [
    "#encoding: utf-8\n",
    "import os\n",
    "import imageio\n",
    "import numpy as np\n",
    "import imgaug as ia\n",
    "from imgaug import augmenters as iaa\n",
    "%matplotlib inline\n",
    "#dir(ia)"
   ]
  },
  {
   "cell_type": "code",
   "execution_count": null,
   "metadata": {},
   "outputs": [],
   "source": [
    "seq = iaa.Sequential([\n",
    "    iaa.Affine(rotate=(-13, 13)),\n",
    "    iaa.AdditiveGaussianNoise(scale=(0, 30)),\n",
    "    iaa.Crop(percent=(0, 0.05)),\n",
    "    iaa.AddToHueAndSaturation((-20, 20)), # change hue and saturation\n",
    "                # either change the brightness of the whole image (sometimes\n",
    "                # per channel) or change the brightness of subareas\n",
    "    iaa.OneOf([iaa.Multiply((0.5, 1.5), per_channel=0.5),\n",
    "                iaa.FrequencyNoiseAlpha(exponent=(-4, 0),\n",
    "                        first=iaa.Multiply((0.5, 1.5), per_channel=True),\n",
    "                        second=iaa.LinearContrast((0.5, 2.0)))]),\n",
    "])\n",
    "img_path = \"data\\\\藏A0A52D.jpg\"\n",
    "img_name = os.path.basename(img_path)\n",
    "\n",
    "image = imageio.imread(img_path)\n",
    "images=[image] * 5\n",
    "\n",
    "images_aug_seq = seq.augment_images(images)\n",
    "\n",
    "print(\"Augmented:\",type(images_aug_seq))\n",
    "ia.imshow(np.hstack(images_aug_seq))\n",
    "for idx, img in enumerate(images_aug_seq):\n",
    "    dst_name = (str(idx) + '_' + os.path.basename(img_path))\n",
    "#     ia.cv2.imwrite(dst_name, img)\n",
    "    ia.cv2.imencode('.jpg', img)[1].tofile(dst_name)  #中文路径"
   ]
  }
 ],
 "metadata": {
  "kernelspec": {
   "display_name": "Python 3",
   "language": "python",
   "name": "python3"
  },
  "language_info": {
   "codemirror_mode": {
    "name": "ipython",
    "version": 3
   },
   "file_extension": ".py",
   "mimetype": "text/x-python",
   "name": "python",
   "nbconvert_exporter": "python",
   "pygments_lexer": "ipython3",
   "version": "3.7.3"
  }
 },
 "nbformat": 4,
 "nbformat_minor": 2
}
