{
 "cells": [
  {
   "cell_type": "markdown",
   "metadata": {},
   "source": [
    "#利用numpy实现softmax"
   ]
  },
  {
   "cell_type": "code",
   "execution_count": 1,
   "metadata": {
    "collapsed": true
   },
   "outputs": [],
   "source": [
    "import numpy as np"
   ]
  },
  {
   "cell_type": "code",
   "execution_count": 2,
   "metadata": {},
   "outputs": [],
   "source": [
    "def softmax_np(logits):\n",
    "    assert(isinstance(logits, np.ndarray)), 'only numpy is available'\n",
    "    exp_value = np.exp(logits) #计算指数值\n",
    "\n",
    "    #way1:利用维度自动扩展\n",
    "    dim_ext = np.sum(exp_value,1).reshape(-1, 1)\n",
    "    \n",
    "#     #way2：复制行的和值\n",
    "#     exp_sum = np.sum(exp_value, 1) #对行值求和\n",
    "#     dim_ext = np.tile(exp_sum.reshape(-1, 1), logits.shape[1]) #复制和值，并还原为原数据维度\n",
    "    return exp_value/dim_ext"
   ]
  },
  {
   "cell_type": "code",
   "execution_count": 3,
   "metadata": {
    "collapsed": true
   },
   "outputs": [],
   "source": [
    "x_val = [[1,2,3], [3,2,2]]\n",
    "logits = np.array(x_val)"
   ]
  },
  {
   "cell_type": "code",
   "execution_count": 4,
   "metadata": {},
   "outputs": [
    {
     "name": "stdout",
     "output_type": "stream",
     "text": [
      "[[ 0.09003057  0.24472847  0.66524096]\n",
      " [ 0.57611688  0.21194156  0.21194156]] [ 1.  1.]\n"
     ]
    }
   ],
   "source": [
    "s_v = softmax_np(logits)\n",
    "print s_v, np.sum(s_v, 1)"
   ]
  }
 ],
 "metadata": {
  "kernelspec": {
   "display_name": "Python 2",
   "language": "python",
   "name": "python2"
  },
  "language_info": {
   "codemirror_mode": {
    "name": "ipython",
    "version": 2
   },
   "file_extension": ".py",
   "mimetype": "text/x-python",
   "name": "python",
   "nbconvert_exporter": "python",
   "pygments_lexer": "ipython2",
   "version": "2.7.13"
  }
 },
 "nbformat": 4,
 "nbformat_minor": 2
}
