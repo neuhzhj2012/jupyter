{
 "cells": [
  {
   "cell_type": "markdown",
   "metadata": {},
   "source": [
    "图片亮度判断"
   ]
  },
  {
   "cell_type": "code",
   "execution_count": 1,
   "metadata": {},
   "outputs": [],
   "source": [
    "import cv2\n",
    "import os\n",
    "import numpy as np\n",
    "import itertools"
   ]
  },
  {
   "cell_type": "code",
   "execution_count": 2,
   "metadata": {},
   "outputs": [],
   "source": [
    "def getAllFiles(img_folder):\n",
    "    rtn = list()\n",
    "    for img_dir, _, imgs in os.walk(img_folder):\n",
    "        for img in imgs:\n",
    "            rtn.append(os.path.join(img_dir, img))\n",
    "    return rtn"
   ]
  },
  {
   "cell_type": "markdown",
   "metadata": {},
   "source": [
    "获得亮度图像的均值，掩码几乎不影响均值计算结果"
   ]
  },
  {
   "cell_type": "code",
   "execution_count": 3,
   "metadata": {},
   "outputs": [],
   "source": [
    "def getValue(img_bgr):\n",
    "    assert img_bgr.shape[-1]==3,'bgr needed!'\n",
    "    img2hsv = cv2.cvtColor(img_bgr, cv2.COLOR_BGR2HSV)\n",
    "    imgValue = img2hsv[:,:,-1]\n",
    "    mask = imgValue > 0\n",
    "    mask_num = list(itertools.chain.from_iterable(mask.tolist())).count(True) #二维转一维\n",
    "#     print ('mask num: {}, total num: {}'.format(mask_num, imgValue.size))\n",
    "    return np.mean(imgValue), np.mean(imgValue[mask])\n",
    "    "
   ]
  },
  {
   "cell_type": "code",
   "execution_count": 4,
   "metadata": {},
   "outputs": [
    {
     "name": "stdout",
     "output_type": "stream",
     "text": [
      "black_ (11).jpg, mn_global: 93.0508236882716, mn_mask: 93.0508236882716\n",
      "black_ (12).jpg, mn_global: 35.60492775127108, mn_mask: 39.86325195346732\n",
      "black_ (14).jpg, mn_global: 70.0315115017361, mn_mask: 70.06382174939615\n",
      "black_ (15).jpg, mn_global: 54.740572916666665, mn_mask: 54.74342413667379\n",
      "black_ (2).jpg, mn_global: 13.115021219135803, mn_mask: 13.115451316883462\n",
      "black_ (3).jpg, mn_global: 28.716986443014704, mn_mask: 30.656059704787545\n",
      "black_ (4).jpg, mn_global: 2.739468443627451, mn_mask: 62.381616813464724\n",
      "black_ (5).jpg, mn_global: 85.66472886029412, mn_mask: 85.66472886029412\n",
      "black_ (8).jpg, mn_global: 12.10849537037037, mn_mask: 12.109112038113052\n",
      "black_ (9).jpg, mn_global: 35.659216986762154, mn_mask: 35.660426175475244\n",
      "sharp_ (1).jpg, mn_global: 254.5168337521853, mn_mask: 254.5168337521853\n",
      "sharp_ (10).jpg, mn_global: 199.02551649305556, mn_mask: 199.02551649305556\n",
      "sharp_ (11).jpg, mn_global: 181.94686889648438, mn_mask: 181.94686889648438\n",
      "sharp_ (12).jpg, mn_global: 223.17970275878906, mn_mask: 223.17970275878906\n",
      "sharp_ (2).jpg, mn_global: 202.22230392156862, mn_mask: 202.22230392156862\n",
      "sharp_ (3).jpg, mn_global: 165.7326486545139, mn_mask: 165.7326486545139\n",
      "sharp_ (4).jpg, mn_global: 162.941083984375, mn_mask: 162.941083984375\n",
      "sharp_ (5).jpg, mn_global: 195.16442322530864, mn_mask: 195.1647997006167\n",
      "sharp_ (6).jpg, mn_global: 161.03156211703433, mn_mask: 161.03957955933774\n",
      "sharp_ (7).jpg, mn_global: 248.48036872016058, mn_mask: 248.48036872016058\n",
      "sharp_ (8).jpg, mn_global: 217.34375, mn_mask: 217.34375\n",
      "sharp_ (9).jpg, mn_global: 231.73644013216847, mn_mask: 231.73644013216847\n"
     ]
    }
   ],
   "source": [
    "img_folder = 'D:\\\\Python\\\\Jupyter\\\\data\\\\sharpness\\\\black'\n",
    "img_paths = getAllFiles(img_folder)\n",
    "x_axis_b = list() #曝光低\n",
    "y_axis_b = list()\n",
    "\n",
    "for img_path in img_paths:\n",
    "    img = cv2.imread(img_path)\n",
    "\n",
    "    mean_global, mean_mask = getValue(img)\n",
    "    print ('{}, mn_global: {}, mn_mask: {}'.format(os.path.basename(img_path), mean_global, mean_mask))\n",
    "    x_axis_b.append(mean_global)  #全局平均\n",
    "    y_axis_b.append(mean_mask)  #掩码平均\n",
    "   \n",
    "\n",
    "img_folder = 'D:\\\\Python\\\\Jupyter\\\\data\\\\sharpness\\\\sharp'\n",
    "img_paths = getAllFiles(img_folder)\n",
    "x_axis_s = list() #曝光过度\n",
    "y_axis_s = list()\n",
    "\n",
    "for img_path in img_paths:\n",
    "    img = cv2.imread(img_path)\n",
    "\n",
    "    mean_global, mean_mask = getValue(img)\n",
    "    print ('{}, mn_global: {}, mn_mask: {}'.format(os.path.basename(img_path), mean_global, mean_mask))\n",
    "    x_axis_s.append(mean_global)  #全局平均\n",
    "    y_axis_s.append(mean_mask)  #掩码平均"
   ]
  },
  {
   "cell_type": "markdown",
   "metadata": {},
   "source": [
    "绘图查看规律"
   ]
  },
  {
   "cell_type": "code",
   "execution_count": null,
   "metadata": {},
   "outputs": [],
   "source": [
    "from matplotlib.pyplot import plot as plot"
   ]
  },
  {
   "cell_type": "code",
   "execution_count": null,
   "metadata": {},
   "outputs": [],
   "source": [
    "plot(x_axis_b, y_axis_b, color='green', marker='o')\n",
    "plot(x_axis_s, y_axis_s, color='red', marker='*')"
   ]
  }
 ],
 "metadata": {
  "kernelspec": {
   "display_name": "Python 3",
   "language": "python",
   "name": "python3"
  },
  "language_info": {
   "codemirror_mode": {
    "name": "ipython",
    "version": 3
   },
   "file_extension": ".py",
   "mimetype": "text/x-python",
   "name": "python",
   "nbconvert_exporter": "python",
   "pygments_lexer": "ipython3",
   "version": "3.7.3"
  }
 },
 "nbformat": 4,
 "nbformat_minor": 2
}
