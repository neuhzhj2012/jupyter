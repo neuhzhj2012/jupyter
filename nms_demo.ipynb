{
 "cells": [
  {
   "cell_type": "code",
   "execution_count": 1,
   "metadata": {
    "collapsed": true
   },
   "outputs": [],
   "source": [
    "import cv2\n",
    "import numpy as np\n",
    "import random"
   ]
  },
  {
   "cell_type": "code",
   "execution_count": 2,
   "metadata": {
    "collapsed": true
   },
   "outputs": [],
   "source": [
    "img=np.zeros((300,400), np.uint8)\n",
    "dets=np.array([[83,54,165,163,0.8], [67,48,118,132,0.5], [91,38,192,171,0.6]], np.float)"
   ]
  },
  {
   "cell_type": "code",
   "execution_count": 3,
   "metadata": {
    "collapsed": true
   },
   "outputs": [],
   "source": [
    "img_cp=img.copy()\n",
    "for box in dets.tolist():\n",
    "    x1,y1,x2,y2,score=int(box[0]),int(box[1]),int(box[2]),int(box[3]),box[-1]\n",
    "    y_text=int(random.uniform(y1, y2))\n",
    "    cv2.rectangle(img_cp, (x1,y1), (x2, y2), (255, 255, 255), 2)\n",
    "    cv2.putText(img_cp, str(score), (x2-30, y_text), 2,1, (255, 255, 0))\n",
    "cv2.imshow(\"ori_img\", img_cp)"
   ]
  },
  {
   "cell_type": "code",
   "execution_count": 4,
   "metadata": {
    "collapsed": true
   },
   "outputs": [],
   "source": [
    "def nms(dets, thresh):\n",
    "    x1 = dets[:, 0]\n",
    "    y1 = dets[:, 1]\n",
    "    x2 = dets[:, 2]\n",
    "    y2 = dets[:, 3]\n",
    "    scores = dets[:, 4]\n",
    "\n",
    "    areas = (x2 - x1 + 1) * (y2 - y1 + 1) #所有box面积\n",
    "    print \"all box aeras: \", areas\n",
    "    order = scores.argsort()[::-1] #降序排列得到scores的坐标索引\n",
    "\n",
    "    keep = []\n",
    "    while order.size > 0:\n",
    "        i = order[0] #最大得分box的坐标索引\n",
    "        keep.append(i)\n",
    "        xx1 = np.maximum(x1[i], x1[order[1:]]) \n",
    "        yy1 = np.maximum(y1[i], y1[order[1:]])\n",
    "        xx2 = np.minimum(x2[i], x2[order[1:]])\n",
    "        yy2 = np.minimum(y2[i], y2[order[1:]]) #最高得分的boax与其他box的公共部分(交集)\n",
    "\n",
    "        w = np.maximum(0.0, xx2 - xx1 + 1)\n",
    "        h = np.maximum(0.0, yy2 - yy1 + 1) #求高和宽，并使数值合法化\n",
    "        inter = w * h #其他所有box的面积\n",
    "        ovr = inter / (areas[i] + areas[order[1:]] - inter)  #IOU:交并比\n",
    "\n",
    "        inds = np.where(ovr <= thresh)[0] #ovr小表示两个box交集少，可能是另一个物体的框，故需要保留\n",
    "        order = order[inds + 1]  #iou小于阈值的框\n",
    "\n",
    "    return keep"
   ]
  },
  {
   "cell_type": "code",
   "execution_count": null,
   "metadata": {},
   "outputs": [
    {
     "name": "stdout",
     "output_type": "stream",
     "text": [
      "all box aress:  [ 9130.  4420. 13668.]\n",
      "nms box: [[ 83.   54.  165.  163.    0.8]\n",
      " [ 67.   48.  118.  132.    0.5]]\n"
     ]
    }
   ],
   "source": [
    "rtn_box=nms(dets, 0.3)\n",
    "cls_dets=dets[rtn_box, :]\n",
    "print \"nms box:\", cls_dets"
   ]
  },
  {
   "cell_type": "code",
   "execution_count": null,
   "metadata": {
    "collapsed": true
   },
   "outputs": [],
   "source": [
    "img_cp=img.copy()\n",
    "for box in cls_dets.tolist():\n",
    "    x1,y1,x2,y2,score=int(box[0]),int(box[1]),int(box[2]),int(box[3]),box[-1]\n",
    "    y_text=int(random.uniform(y1, y2))\n",
    "    cv2.rectangle(img_cp, (x1,y1), (x2, y2), (255, 255, 255), 2)\n",
    "    cv2.putText(img_cp, str(score), (x2-30, y_text), 2,1, (255, 255, 0))\n",
    "cv2.imshow(\"nms_img\", img_cp)\n",
    "cv2.waitKey(0)"
   ]
  }
 ],
 "metadata": {
  "kernelspec": {
   "display_name": "Python 2",
   "language": "python",
   "name": "python2"
  },
  "language_info": {
   "codemirror_mode": {
    "name": "ipython",
    "version": 2
   },
   "file_extension": ".py",
   "mimetype": "text/x-python",
   "name": "python",
   "nbconvert_exporter": "python",
   "pygments_lexer": "ipython2",
   "version": "2.7.13"
  }
 },
 "nbformat": 4,
 "nbformat_minor": 2
}
