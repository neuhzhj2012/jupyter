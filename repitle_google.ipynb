{
 "cells": [
  {
   "cell_type": "markdown",
   "metadata": {},
   "source": [
    "[项目地址](https://github.com/hardikvasa/google-images-download)"
   ]
  },
  {
   "cell_type": "code",
   "execution_count": null,
   "metadata": {},
   "outputs": [],
   "source": [
    "from google_images_download import google_images_download\n",
    "response = google_images_download.googleimagesdownload()\n",
    "print dir(response)"
   ]
  },
  {
   "cell_type": "markdown",
   "metadata": {},
   "source": [
    "通过指定chromedriver地址,可以获得多于100张的图"
   ]
  },
  {
   "cell_type": "code",
   "execution_count": null,
   "metadata": {},
   "outputs": [],
   "source": [
    "arguments = {\"keywords\":\"banana, apple\",\"limit\":101,\"print_urls\":True,\"format\":\"jpg\", \"size\":\">400*300\",\"chromedriver\":\"C:\\\\chromedriver_win32\\\\chromedriver.exe\"} \n",
    "rst = response.download(arguments)"
   ]
  },
  {
   "cell_type": "markdown",
   "metadata": {},
   "source": [
    "根据相似图片搜索,效果很差"
   ]
  },
  {
   "cell_type": "code",
   "execution_count": null,
   "metadata": {},
   "outputs": [],
   "source": [
    "arguments = {\"similar_images\":'https://car3.autoimg.cn/cardfs/product/g25/M04/C7/EA/t_autohomecar__ChcCr1qyNISAXmkKAAdtKUViiPI065.jpg' ,\"limit\":101,\"print_urls\":True, \\\n",
    "             \"size\":\">400*300\",\"chromedriver\":\"C:\\\\chromedriver_win32\\\\chromedriver.exe\"} \n",
    "tmp = response.download(arguments)"
   ]
  },
  {
   "cell_type": "markdown",
   "metadata": {},
   "source": [
    "[不显示时的设置方法](https://stackoverflow.com/questions/25494182/print-not-showing-in-ipython-notebook)"
   ]
  },
  {
   "cell_type": "code",
   "execution_count": null,
   "metadata": {},
   "outputs": [],
   "source": [
    "arguments = {\"keywords\":\"banana, apple\",\"limit\":2,\"print_urls\":True,\"no_download\":True,\\\n",
    "             \"format\":\"jpg\", \"size\":\">400*300\",\"chromedriver\":\"C:\\\\chromedriver_win32\\\\chromedriver.exe\"} \n",
    "rst = response.download(arguments)\n",
    "print \"myrst is :\", rst"
   ]
  }
 ],
 "metadata": {
  "kernelspec": {
   "display_name": "Python 2",
   "language": "python",
   "name": "python2"
  },
  "language_info": {
   "codemirror_mode": {
    "name": "ipython",
    "version": 2
   },
   "file_extension": ".py",
   "mimetype": "text/x-python",
   "name": "python",
   "nbconvert_exporter": "python",
   "pygments_lexer": "ipython2",
   "version": "2.7.16"
  }
 },
 "nbformat": 4,
 "nbformat_minor": 2
}
