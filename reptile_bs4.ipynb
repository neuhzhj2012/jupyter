{
 "cells": [
  {
   "cell_type": "markdown",
   "metadata": {},
   "source": [
    "[python利用beautifulsoup+selenium自动翻页抓取网页内容](http://unclechen.github.io/2016/12/11/python%E5%88%A9%E7%94%A8beautifulsoup+selenium%E8%87%AA%E5%8A%A8%E7%BF%BB%E9%A1%B5%E6%8A%93%E5%8F%96%E7%BD%91%E9%A1%B5%E5%86%85%E5%AE%B9/)\n",
    "py3"
   ]
  },
  {
   "cell_type": "code",
   "execution_count": 1,
   "metadata": {},
   "outputs": [],
   "source": [
    "import sys\n",
    "import time\n",
    "import bs4\n",
    "from bs4 import BeautifulSoup\n",
    "from selenium import webdriver"
   ]
  },
  {
   "cell_type": "code",
   "execution_count": 2,
   "metadata": {},
   "outputs": [],
   "source": [
    "url = 'http://baike.baidu.com/starrank?fr=lemmaxianhua'"
   ]
  },
  {
   "cell_type": "code",
   "execution_count": 3,
   "metadata": {},
   "outputs": [],
   "source": [
    "driver = webdriver.Chrome('C:/chromedriver_win32/chromedriver_77.exe') # 创建一个driver用于打开网页，记得找到brew安装的chromedriver的位置，在创建driver的时候指定这个位置\n",
    "driver.get(url) # 打开网页"
   ]
  },
  {
   "cell_type": "markdown",
   "metadata": {},
   "source": [
    "- 查找roi的上级目录"
   ]
  },
  {
   "cell_type": "code",
   "execution_count": null,
   "metadata": {},
   "outputs": [],
   "source": [
    "soup = BeautifulSoup(driver.page_source, \"html.parser\")"
   ]
  },
  {
   "cell_type": "code",
   "execution_count": null,
   "metadata": {},
   "outputs": [],
   "source": [
    "rst = soup.select('a.pTag.last') #html中class中有空格时表示两个属性\n",
    "print ('total pages: {}'.format(rst[0]['p-index']))"
   ]
  },
  {
   "cell_type": "code",
   "execution_count": null,
   "metadata": {},
   "outputs": [],
   "source": [
    "current_names = soup.select('tbody.rank-list-container')   #类名查找方式\n",
    "# current_names = soup.select('tbody#J-rank-list-container') #id名查找方式\n",
    "ranks = current_names[0].select('td.rank-list-index')  #单属性查找\n",
    "names = current_names[0].select('p.star-name')\n",
    "assert len(names)==len(ranks)\n",
    "for rank, name in zip(ranks, names):\n",
    "    print ('idx: {}, name: {}'.format((rank.select('i')[0]).string, name.string))"
   ]
  },
  {
   "cell_type": "code",
   "execution_count": null,
   "metadata": {},
   "outputs": [],
   "source": [
    "# current_names = soup.select('tbody.rank-list-container')   #类名查找方式\n",
    "current_names = soup.select('tbody#J-rank-list-container') #id名查找方式\n",
    "ranks = current_names[0].select('td.rank-list-index i')  #多属性查找\n",
    "names = current_names[0].select('p.star-name')\n",
    "assert len(names)==len(ranks)\n",
    "for rank, name in zip(ranks, names):\n",
    "    print ('idx: {}, name: {}'.format(rank.string, name.string))"
   ]
  },
  {
   "cell_type": "markdown",
   "metadata": {},
   "source": [
    "- 查找roi内容"
   ]
  },
  {
   "cell_type": "code",
   "execution_count": null,
   "metadata": {},
   "outputs": [],
   "source": [
    "one_info = soup.find_all('tr')\n",
    "for info in one_info[1:]: #0为表的标题栏\n",
    "    name = info.select('.star-name')[0]\n",
    "    rank = info.select('td.rank-list-index i')[0]    #多属性查找\n",
    "#     print ('rank: {}, content: {}, string: {}'.format(rank.string, name.contents, name.string))\n",
    "    print ('rank: {}, string: {}'.format(rank.string, name.string))"
   ]
  },
  {
   "cell_type": "code",
   "execution_count": null,
   "metadata": {},
   "outputs": [],
   "source": [
    "one_info = soup.tbody.children\n",
    "for idx, info in enumerate(one_info):\n",
    "    if not isinstance(info, bs4.element.Tag):\n",
    "        continue\n",
    "    name = info.select('.star-name')[0]\n",
    "    rank = info.select('td.rank-list-index i')[0]    #多属性查找\n",
    "    print ('rank: {}, string: {}'.format(rank.string, name.string))"
   ]
  },
  {
   "cell_type": "markdown",
   "metadata": {},
   "source": [
    "- 两级目录组合方式"
   ]
  },
  {
   "cell_type": "code",
   "execution_count": null,
   "metadata": {},
   "outputs": [],
   "source": [
    "current_names = soup.select('tbody#J-rank-list-container')\n",
    "for idx, info in enumerate(current_names[0].find_all('tr')):\n",
    "    name = info.select('.star-name')[0]\n",
    "    rank = info.select('td.rank-list-index i')[0]    #多属性查找\n",
    "    print ('rank: {}, string: {}'.format(rank.string, name.string))"
   ]
  },
  {
   "cell_type": "code",
   "execution_count": 4,
   "metadata": {},
   "outputs": [
    {
     "name": "stdout",
     "output_type": "stream",
     "text": [
      "rank: 1, string: 王俊凯\n",
      "rank: 2, string: 杨紫\n",
      "rank: 3, string: 陈伟霆\n",
      "rank: 4, string: 易烊千玺\n",
      "rank: 5, string: 黄子韬\n",
      "rank: 6, string: 金秀贤\n",
      "rank: 7, string: 马天宇\n",
      "rank: 8, string: 朱一龙\n",
      "rank: 9, string: 肖战\n",
      "rank: 10, string: 迪丽热巴\n",
      "rank: 11, string: 王一博\n",
      "rank: 12, string: 李现\n",
      "rank: 13, string: 刘宇宁\n",
      "rank: 14, string: 余枫\n",
      "rank: 15, string: SNH48\n",
      "rank: 16, string: 华晨宇\n",
      "rank: 17, string: 金钟国\n",
      "rank: 18, string: 钟汉良\n",
      "rank: 19, string: 罗云熙\n",
      "rank: 20, string: 张云雷\n",
      "rank: 21, string: 刘诗诗\n",
      "rank: 22, string: 杨超越\n",
      "rank: 23, string: 李知恩\n",
      "rank: 24, string: 周芷莹\n",
      "rank: 25, string: 黄致列\n",
      "rank: 26, string: 邓伦\n",
      "rank: 27, string: 杨洋\n",
      "rank: 28, string: 蔡徐坤\n",
      "rank: 28, string: 李汶翰\n",
      "rank: 30, string: 王婉中\n",
      "rank: 31, string: 王凯\n",
      "rank: 32, string: 张国荣\n",
      "rank: 33, string: 李健\n",
      "rank: 34, string: 何洛洛\n",
      "rank: 35, string: 李易峰\n",
      "rank: 36, string: 张艺兴\n",
      "rank: 37, string: 李沁\n",
      "rank: 38, string: 李斯羽\n",
      "rank: 39, string: NINE PERCENT\n",
      "rank: 40, string: 马蹄露\n",
      "41\n"
     ]
    }
   ],
   "source": [
    "name_counter = 1\n",
    "page = 0;\n",
    "while page < 2: # 共50页，这里是手工指定的\n",
    "    soup = BeautifulSoup(driver.page_source, \"html.parser\")\n",
    "    \n",
    "    one_info = soup.tbody.children\n",
    "    for info in one_info:\n",
    "        if not isinstance(info, bs4.element.Tag):\n",
    "            continue\n",
    "        name = info.select('.star-name')[0]\n",
    "        rank = info.select('td.rank-list-index i')[0]    #多属性查找\n",
    "        print ('rank: {}, string: {}'.format(rank.string, name.string))\n",
    "        name_counter = name_counter + 1\n",
    "\n",
    "    driver.find_element_by_xpath(\"//a[contains(text(),'下一页')]\").click() # selenium的xpath用法，找到包含“下一页”的a标签去点击\n",
    "    page = page + 1\n",
    "    time.sleep(2) # 睡2秒让网页加载完再去读它的html代码\n",
    "print (name_counter) # 共爬取得明星的名字数量\n",
    "driver.quit()"
   ]
  }
 ],
 "metadata": {
  "kernelspec": {
   "display_name": "Python 3",
   "language": "python",
   "name": "python3"
  },
  "language_info": {
   "codemirror_mode": {
    "name": "ipython",
    "version": 3
   },
   "file_extension": ".py",
   "mimetype": "text/x-python",
   "name": "python",
   "nbconvert_exporter": "python",
   "pygments_lexer": "ipython3",
   "version": "3.7.3"
  }
 },
 "nbformat": 4,
 "nbformat_minor": 2
}
