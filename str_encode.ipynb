{
 "cells": [
  {
   "cell_type": "code",
   "execution_count": 1,
   "metadata": {},
   "outputs": [],
   "source": [
    "import sys\n",
    "import chardet"
   ]
  },
  {
   "cell_type": "markdown",
   "metadata": {},
   "source": [
    "- 字符串类型变量需要转换为unicode编码格式，才能获得正确的长度信息\n",
    "- reload(sys)时，重载的输入输出，此时输出结果打印至终端，而不是cell下方,故需要如下注释行"
   ]
  },
  {
   "cell_type": "code",
   "execution_count": 2,
   "metadata": {},
   "outputs": [
    {
     "name": "stdout",
     "output_type": "stream",
     "text": [
      "encoding format ascii\n",
      "中国 中国66\n",
      "中国66\n",
      "length s1 2, s2 6, s3 8\n",
      "format s1 {'confidence': 1.0, 'language': '', 'encoding': 'ascii'}, s2 {'confidence': 0.7525, 'language': '', 'encoding': 'utf-8'}, s3 {'confidence': 0.7525, 'language': '', 'encoding': 'utf-8'}\n",
      "s5 unicode True\n",
      "length s4 2, s5 4\n"
     ]
    }
   ],
   "source": [
    "print 'encoding format',sys.getdefaultencoding()\n",
    "# dft_stdout=sys.stdout\n",
    "# dft_stdin=sys.stdin\n",
    "# dft_stderr=sys.stderr\n",
    "# reload(sys) \n",
    "# sys.stdin=dft_stdin      \n",
    "# sys.stdout=dft_stdout\n",
    "# sys.stderr=dft_stderr\n",
    "# sys.setdefaultencoding('utf-8')\n",
    "# print 'set encoding format',sys.getdefaultencoding()\n",
    "s1='66'\n",
    "s2='中国'\n",
    "s3='中国66'\n",
    "print s2, s3\n",
    "s4=s1.decode('ascii')\n",
    "s5=s3.decode('utf-8')\n",
    "print s5\n",
    "print 'length s1 {}, s2 {}, s3 {}'.format(len(s1), len(s2), len(s3)) \n",
    "print 'format s1 {}, s2 {}, s3 {}'.format(chardet.detect(s1), chardet.detect(s2), chardet.detect(s3))\n",
    "\n",
    "print 's5 unicode {}'.format(isinstance(s5, unicode))\n",
    "print 'length s4 {}, s5 {}'.format(len(s4), len(s5))"
   ]
  },
  {
   "cell_type": "markdown",
   "metadata": {},
   "source": [
    "1. dict,list, tuple变量直接可获得其长度信息"
   ]
  },
  {
   "cell_type": "code",
   "execution_count": 5,
   "metadata": {},
   "outputs": [
    {
     "name": "stdout",
     "output_type": "stream",
     "text": [
      "length d_1 2, l_2 4, t_3 2\n"
     ]
    }
   ],
   "source": [
    "d_1={'中国':86, 'people':13}\n",
    "l_2=[5,6,'中国',8]\n",
    "t_3=('中国', 86)\n",
    "print 'length d_1 {}, l_2 {}, t_3 {}'.format(len(d_1), len(l_2), len(t_3))"
   ]
  }
 ],
 "metadata": {
  "kernelspec": {
   "display_name": "Python 2",
   "language": "python",
   "name": "python2"
  },
  "language_info": {
   "codemirror_mode": {
    "name": "ipython",
    "version": 2
   },
   "file_extension": ".py",
   "mimetype": "text/x-python",
   "name": "python",
   "nbconvert_exporter": "python",
   "pygments_lexer": "ipython2",
   "version": "2.7.13"
  }
 },
 "nbformat": 4,
 "nbformat_minor": 2
}
