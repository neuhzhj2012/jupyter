{
 "cells": [
  {
   "cell_type": "code",
   "execution_count": 1,
   "metadata": {},
   "outputs": [],
   "source": [
    "import tensorflow as tf"
   ]
  },
  {
   "cell_type": "code",
   "execution_count": 16,
   "metadata": {},
   "outputs": [],
   "source": [
    "in_1=1\n",
    "in_2=2\n",
    "name=None #foo\n",
    "# name='foo'"
   ]
  },
  {
   "cell_type": "markdown",
   "metadata": {},
   "source": [
    "- tf.variable_scope使用default_name时，重名时顶层名称自动改变(后缀加上下划线和重复次数)"
   ]
  },
  {
   "cell_type": "code",
   "execution_count": 17,
   "metadata": {},
   "outputs": [
    {
     "name": "stdout",
     "output_type": "stream",
     "text": [
      "##ID: 0##\n",
      "v1 name: V0_2/bar/var1:0\n",
      "v2 name: V0_2/bar/var2:0\n",
      "v3 name: V0_2/bar/var2_1:0\n",
      "##ID: 1##\n",
      "v1 name: V0_3/bar/var1:0\n",
      "v2 name: V0_3/bar/var2:0\n",
      "v3 name: V0_3/bar/var2_1:0\n"
     ]
    }
   ],
   "source": [
    "for idx in range(2):\n",
    "#     with tf.variable_scope(name, 'V0', [in_1, in_2],reuse=tf.AUTO_REUSE):\n",
    "    with tf.variable_scope(name, 'V0', [in_1, in_2]):\n",
    "        with tf.variable_scope(\"bar\"):\n",
    "            v1 = tf.get_variable(\"var1\", [1])   #变量空间需要设置reuse，否则第二次调用时报错\n",
    "            v2 = tf.Variable(initial_value=[2.], name='var2', dtype=tf.float32)\n",
    "            v3 = tf.Variable(initial_value=[2.], name='var2', dtype=tf.float32)\n",
    "    with tf.Session() as sess:\n",
    "        print('##ID: {}##'.format(idx))\n",
    "        print ('v1 name: {}'.format(v1.name))\n",
    "        print ('v2 name: {}'.format(v2.name))\n",
    "        print ('v3 name: {}'.format(v3.name))"
   ]
  },
  {
   "cell_type": "code",
   "execution_count": 18,
   "metadata": {},
   "outputs": [
    {
     "name": "stdout",
     "output_type": "stream",
     "text": [
      "##ID: 0##\n",
      "v1 name: var1:0\n",
      "v2 name: V1/bar/var2:0\n",
      "v3 name: V1/bar/var2_1:0\n",
      "##ID: 1##\n",
      "v1 name: var1:0\n",
      "v2 name: V1_1/bar/var2:0\n",
      "v3 name: V1_1/bar/var2_1:0\n"
     ]
    }
   ],
   "source": [
    "for idx in range(2):\n",
    "    with tf.name_scope(name, 'V1', [in_1, in_2]):  #name和default_name都是依次递增_ID，全局唯一\n",
    "        with tf.name_scope(\"bar\"):\n",
    "            #tf.get_variable_scope().reuse_variables()\n",
    "            with tf.variable_scope(tf.get_variable_scope(), reuse=tf.AUTO_REUSE):\n",
    "                v1 = tf.get_variable(\"var1\", [1])    \n",
    "            v2 = tf.Variable(initial_value=[2.], name='var2', dtype=tf.float32)\n",
    "            v3 = tf.Variable(initial_value=[2.], name='var2', dtype=tf.float32)\n",
    "    \n",
    "    with tf.Session() as sess:\n",
    "        print('##ID: {}##'.format(idx))\n",
    "        print('v1 name: {}'.format(v1.name))\n",
    "        print('v2 name: {}'.format(v2.name))\n",
    "        print('v3 name: {}'.format(v3.name))"
   ]
  },
  {
   "cell_type": "markdown",
   "metadata": {},
   "source": [
    "- 使用reuse_variables函数时，tf.get_variable从已有变量中直接读取，否则报错；\n",
    "- tf.get_variable的变量名取决于tf.variable_scope和自身的name值，与tf.name_scope无关；\n",
    "- tf.Variable的变量名在同一空间重复时，名称自动改变(后缀加上下划线和重复次数)\n",
    "- tf.Variable的变量空间重名时，名称自动改变(后缀加上下划线和重复次数)"
   ]
  },
  {
   "cell_type": "code",
   "execution_count": 3,
   "metadata": {},
   "outputs": [
    {
     "name": "stdout",
     "output_type": "stream",
     "text": [
      "WARNING:tensorflow:From C:\\Users\\huangzhongjie\\AppData\\Local\\Continuum\\anaconda3\\lib\\site-packages\\tensorflow\\python\\framework\\op_def_library.py:263: colocate_with (from tensorflow.python.framework.ops) is deprecated and will be removed in a future version.\n",
      "Instructions for updating:\n",
      "Colocations handled automatically by placer.\n",
      "##ID: 0##\n",
      "v1 name: foo/var1:0\n",
      "v2 name: foo/bar/var2:0\n",
      "v3 name: foo/bar/var2_1:0\n",
      "##ID: 1##\n",
      "v1 name: foo/var1:0\n",
      "v2 name: foo_1/bar/var2:0\n",
      "v3 name: foo_1/bar/var2_1:0\n"
     ]
    }
   ],
   "source": [
    "v1 = tf.get_variable('foo/var1', [1])\n",
    "for idx in range(2):\n",
    "    with tf.variable_scope(name, 'V2', [in_1, in_2]) as scope:\n",
    "        with tf.name_scope(\"bar\"):\n",
    "            scope.reuse_variables()  #仅当变量名已经存在时有效\n",
    "            #tf.get_variable_scope().reuse_variables() #仅当变量名存在时有效\n",
    "            v1 = tf.get_variable(\"var1\", [1])\n",
    "            v2 = tf.Variable(initial_value=[2.], name='var2', dtype=tf.float32)\n",
    "            v3 = tf.Variable(initial_value=[2.], name='var2', dtype=tf.float32)\n",
    "\n",
    "    with tf.Session() as sess:\n",
    "        print('##ID: {}##'.format(idx))\n",
    "        print('v1 name: {}'.format(v1.name))\n",
    "        print('v2 name: {}'.format(v2.name))\n",
    "        print('v3 name: {}'.format(v3.name))"
   ]
  },
  {
   "cell_type": "markdown",
   "metadata": {},
   "source": [
    "- tf.get_variable直接创建变量"
   ]
  },
  {
   "cell_type": "code",
   "execution_count": 4,
   "metadata": {},
   "outputs": [
    {
     "name": "stdout",
     "output_type": "stream",
     "text": [
      "v1 name: foo_6/bar/var2:0\n"
     ]
    }
   ],
   "source": [
    "v1 = tf.get_variable(\"foo_6/bar/var2\", [1])\n",
    "with tf.Session() as sess:\n",
    "    print('v1 name: {}'.format(v1.name))"
   ]
  },
  {
   "cell_type": "markdown",
   "metadata": {},
   "source": [
    "- tf.get_variable变量重名时需要指定reuse=True或tf.AUTO_REUSE，\n",
    "- reuse=True或tf.AUTO_REUSE的区别时后者当变量不存在时可以创建，前者则不可以；两者均需要指定name，而不能使用default_name"
   ]
  },
  {
   "cell_type": "code",
   "execution_count": 5,
   "metadata": {},
   "outputs": [],
   "source": [
    "v1 = tf.get_variable('foo_7', [1])\n",
    "with tf.variable_scope(tf.get_variable_scope(), reuse=tf.AUTO_REUSE):\n",
    "    v1 = tf.get_variable('foo_7', [1])"
   ]
  }
 ],
 "metadata": {
  "kernelspec": {
   "display_name": "Python 3",
   "language": "python",
   "name": "python3"
  },
  "language_info": {
   "codemirror_mode": {
    "name": "ipython",
    "version": 3
   },
   "file_extension": ".py",
   "mimetype": "text/x-python",
   "name": "python",
   "nbconvert_exporter": "python",
   "pygments_lexer": "ipython3",
   "version": "3.7.3"
  }
 },
 "nbformat": 4,
 "nbformat_minor": 2
}
